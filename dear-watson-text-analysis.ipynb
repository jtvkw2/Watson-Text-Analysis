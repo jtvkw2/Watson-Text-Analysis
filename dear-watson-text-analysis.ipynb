{
 "cells": [
  {
   "cell_type": "markdown",
   "execution_count": null,
   "metadata": {
    "_cell_guid": "b1076dfc-b9ad-4769-8c92-a6c4dae69d19",
    "_uuid": "8f2839f25d086af736a60e9eeb907d3b93b6e0e5",
    "papermill": {
     "duration": 0.006753,
     "end_time": "2020-08-15T18:28:34.243395",
     "exception": false,
     "start_time": "2020-08-15T18:28:34.236642",
     "status": "completed"
    },
    "tags": []
   },
   "source": [
    "# Watson Text Analysis"
   ]
  },
  {
   "cell_type": "markdown",
   "execution_count": null,
   "metadata": {
    "papermill": {
     "duration": 0.004842,
     "end_time": "2020-08-15T18:28:34.253273",
     "exception": false,
     "start_time": "2020-08-15T18:28:34.248431",
     "status": "completed"
    },
    "tags": []
   },
   "source": [
    "## Table of Contents\n",
    "\n",
    "- [Import Libraries](#import)\n",
    "- [Data Cleaning](#data)\n",
    "- [Visualization](#visual)\n",
    "- [Submission](#submission)"
   ]
  },
  {
   "cell_type": "markdown",
   "execution_count": null,
   "metadata": {
    "papermill": {
     "duration": 0.004509,
     "end_time": "2020-08-15T18:28:34.262594",
     "exception": false,
     "start_time": "2020-08-15T18:28:34.258085",
     "status": "completed"
    },
    "tags": []
   },
   "source": [
    "<a id =\"import\"></a>\n",
    "# Import Libraries"
   ]
  },
  {
   "cell_type": "code",
   "execution_count": 1,
   "metadata": {
    "_cell_guid": "79c7e3d0-c299-4dcb-8224-4455121ee9b0",
    "_uuid": "d629ff2d2480ee46fbb7e2d37f6b5fab8052498a",
    "execution": {
     "iopub.execute_input": "2020-08-15T18:28:34.282128Z",
     "iopub.status.busy": "2020-08-15T18:28:34.281476Z",
     "iopub.status.idle": "2020-08-15T18:28:37.530737Z",
     "shell.execute_reply": "2020-08-15T18:28:37.531518Z"
    },
    "papermill": {
     "duration": 3.262601,
     "end_time": "2020-08-15T18:28:37.531713",
     "exception": false,
     "start_time": "2020-08-15T18:28:34.269112",
     "status": "completed"
    },
    "tags": []
   },
   "outputs": [
    {
     "name": "stdout",
     "output_type": "stream",
     "text": [
      "[nltk_data] Downloading package stopwords to /usr/share/nltk_data...\n",
      "[nltk_data]   Package stopwords is already up-to-date!\n",
      "/kaggle/input/contradictory-my-dear-watson/sample_submission.csv\n",
      "/kaggle/input/contradictory-my-dear-watson/test.csv\n",
      "/kaggle/input/contradictory-my-dear-watson/train.csv\n"
     ]
    }
   ],
   "source": [
    "import numpy as np # linear algebra\n",
    "import pandas as pd # data processing, CSV file I/O (e.g. pd.read_csv)\n",
    "import seaborn as sns\n",
    "import matplotlib.pyplot as plt\n",
    "import nltk\n",
    "import re, string, unicodedata\n",
    "from pandas import DataFrame\n",
    "from nltk import word_tokenize, sent_tokenize\n",
    "from nltk.stem import LancasterStemmer, WordNetLemmatizer\n",
    "from nltk.probability import FreqDist\n",
    "from nltk.corpus import stopwords\n",
    "from wordcloud import WordCloud\n",
    "nltk.download('stopwords')\n",
    "\n",
    "import os\n",
    "for dirname, _, filenames in os.walk('/kaggle/input'):\n",
    "    for filename in filenames:\n",
    "        print(os.path.join(dirname, filename))"
   ]
  },
  {
   "cell_type": "code",
   "execution_count": 2,
   "metadata": {
    "execution": {
     "iopub.execute_input": "2020-08-15T18:28:37.553702Z",
     "iopub.status.busy": "2020-08-15T18:28:37.553072Z",
     "iopub.status.idle": "2020-08-15T18:28:37.646039Z",
     "shell.execute_reply": "2020-08-15T18:28:37.645465Z"
    },
    "papermill": {
     "duration": 0.109206,
     "end_time": "2020-08-15T18:28:37.646162",
     "exception": false,
     "start_time": "2020-08-15T18:28:37.536956",
     "status": "completed"
    },
    "tags": []
   },
   "outputs": [
    {
     "data": {
      "text/html": [
       "<div>\n",
       "<style scoped>\n",
       "    .dataframe tbody tr th:only-of-type {\n",
       "        vertical-align: middle;\n",
       "    }\n",
       "\n",
       "    .dataframe tbody tr th {\n",
       "        vertical-align: top;\n",
       "    }\n",
       "\n",
       "    .dataframe thead th {\n",
       "        text-align: right;\n",
       "    }\n",
       "</style>\n",
       "<table border=\"1\" class=\"dataframe\">\n",
       "  <thead>\n",
       "    <tr style=\"text-align: right;\">\n",
       "      <th></th>\n",
       "      <th>id</th>\n",
       "      <th>premise</th>\n",
       "      <th>hypothesis</th>\n",
       "      <th>lang_abv</th>\n",
       "      <th>language</th>\n",
       "      <th>label</th>\n",
       "    </tr>\n",
       "  </thead>\n",
       "  <tbody>\n",
       "    <tr>\n",
       "      <th>0</th>\n",
       "      <td>5130fd2cb5</td>\n",
       "      <td>and these comments were considered in formulat...</td>\n",
       "      <td>The rules developed in the interim were put to...</td>\n",
       "      <td>en</td>\n",
       "      <td>English</td>\n",
       "      <td>0</td>\n",
       "    </tr>\n",
       "    <tr>\n",
       "      <th>1</th>\n",
       "      <td>5b72532a0b</td>\n",
       "      <td>These are issues that we wrestle with in pract...</td>\n",
       "      <td>Practice groups are not permitted to work on t...</td>\n",
       "      <td>en</td>\n",
       "      <td>English</td>\n",
       "      <td>2</td>\n",
       "    </tr>\n",
       "    <tr>\n",
       "      <th>2</th>\n",
       "      <td>3931fbe82a</td>\n",
       "      <td>Des petites choses comme celles-là font une di...</td>\n",
       "      <td>J'essayais d'accomplir quelque chose.</td>\n",
       "      <td>fr</td>\n",
       "      <td>French</td>\n",
       "      <td>0</td>\n",
       "    </tr>\n",
       "    <tr>\n",
       "      <th>3</th>\n",
       "      <td>5622f0c60b</td>\n",
       "      <td>you know they can't really defend themselves l...</td>\n",
       "      <td>They can't defend themselves because of their ...</td>\n",
       "      <td>en</td>\n",
       "      <td>English</td>\n",
       "      <td>0</td>\n",
       "    </tr>\n",
       "    <tr>\n",
       "      <th>4</th>\n",
       "      <td>86aaa48b45</td>\n",
       "      <td>ในการเล่นบทบาทสมมุติก็เช่นกัน โอกาสที่จะได้แสด...</td>\n",
       "      <td>เด็กสามารถเห็นได้ว่าชาติพันธุ์แตกต่างกันอย่างไร</td>\n",
       "      <td>th</td>\n",
       "      <td>Thai</td>\n",
       "      <td>1</td>\n",
       "    </tr>\n",
       "  </tbody>\n",
       "</table>\n",
       "</div>"
      ],
      "text/plain": [
       "           id                                            premise  \\\n",
       "0  5130fd2cb5  and these comments were considered in formulat...   \n",
       "1  5b72532a0b  These are issues that we wrestle with in pract...   \n",
       "2  3931fbe82a  Des petites choses comme celles-là font une di...   \n",
       "3  5622f0c60b  you know they can't really defend themselves l...   \n",
       "4  86aaa48b45  ในการเล่นบทบาทสมมุติก็เช่นกัน โอกาสที่จะได้แสด...   \n",
       "\n",
       "                                          hypothesis lang_abv language  label  \n",
       "0  The rules developed in the interim were put to...       en  English      0  \n",
       "1  Practice groups are not permitted to work on t...       en  English      2  \n",
       "2              J'essayais d'accomplir quelque chose.       fr   French      0  \n",
       "3  They can't defend themselves because of their ...       en  English      0  \n",
       "4    เด็กสามารถเห็นได้ว่าชาติพันธุ์แตกต่างกันอย่างไร       th     Thai      1  "
      ]
     },
     "execution_count": 2,
     "metadata": {},
     "output_type": "execute_result"
    }
   ],
   "source": [
    "train = pd.read_csv(\"/kaggle/input/contradictory-my-dear-watson/train.csv\")\n",
    "train.head()"
   ]
  },
  {
   "cell_type": "code",
   "execution_count": 3,
   "metadata": {
    "execution": {
     "iopub.execute_input": "2020-08-15T18:28:37.662744Z",
     "iopub.status.busy": "2020-08-15T18:28:37.662100Z",
     "iopub.status.idle": "2020-08-15T18:28:37.704731Z",
     "shell.execute_reply": "2020-08-15T18:28:37.704164Z"
    },
    "papermill": {
     "duration": 0.05311,
     "end_time": "2020-08-15T18:28:37.704850",
     "exception": false,
     "start_time": "2020-08-15T18:28:37.651740",
     "status": "completed"
    },
    "tags": []
   },
   "outputs": [
    {
     "data": {
      "text/html": [
       "<div>\n",
       "<style scoped>\n",
       "    .dataframe tbody tr th:only-of-type {\n",
       "        vertical-align: middle;\n",
       "    }\n",
       "\n",
       "    .dataframe tbody tr th {\n",
       "        vertical-align: top;\n",
       "    }\n",
       "\n",
       "    .dataframe thead th {\n",
       "        text-align: right;\n",
       "    }\n",
       "</style>\n",
       "<table border=\"1\" class=\"dataframe\">\n",
       "  <thead>\n",
       "    <tr style=\"text-align: right;\">\n",
       "      <th></th>\n",
       "      <th>id</th>\n",
       "      <th>premise</th>\n",
       "      <th>hypothesis</th>\n",
       "      <th>lang_abv</th>\n",
       "      <th>language</th>\n",
       "    </tr>\n",
       "  </thead>\n",
       "  <tbody>\n",
       "    <tr>\n",
       "      <th>0</th>\n",
       "      <td>c6d58c3f69</td>\n",
       "      <td>بکس، کیسی، راہیل، یسعیاہ، کیلی، کیلی، اور کولم...</td>\n",
       "      <td>کیسی کے لئے کوئی یادگار نہیں ہوگا, کولمین ہائی...</td>\n",
       "      <td>ur</td>\n",
       "      <td>Urdu</td>\n",
       "    </tr>\n",
       "    <tr>\n",
       "      <th>1</th>\n",
       "      <td>cefcc82292</td>\n",
       "      <td>هذا هو ما تم نصحنا به.</td>\n",
       "      <td>عندما يتم إخبارهم بما يجب عليهم فعله ، فشلت ال...</td>\n",
       "      <td>ar</td>\n",
       "      <td>Arabic</td>\n",
       "    </tr>\n",
       "    <tr>\n",
       "      <th>2</th>\n",
       "      <td>e98005252c</td>\n",
       "      <td>et cela est en grande partie dû au fait que le...</td>\n",
       "      <td>Les mères se droguent.</td>\n",
       "      <td>fr</td>\n",
       "      <td>French</td>\n",
       "    </tr>\n",
       "    <tr>\n",
       "      <th>3</th>\n",
       "      <td>58518c10ba</td>\n",
       "      <td>与城市及其他公民及社区组织代表就IMA的艺术发展进行对话&amp;amp</td>\n",
       "      <td>IMA与其他组织合作，因为它们都依靠共享资金。</td>\n",
       "      <td>zh</td>\n",
       "      <td>Chinese</td>\n",
       "    </tr>\n",
       "    <tr>\n",
       "      <th>4</th>\n",
       "      <td>c32b0d16df</td>\n",
       "      <td>Она все еще была там.</td>\n",
       "      <td>Мы думали, что она ушла, однако, она осталась.</td>\n",
       "      <td>ru</td>\n",
       "      <td>Russian</td>\n",
       "    </tr>\n",
       "  </tbody>\n",
       "</table>\n",
       "</div>"
      ],
      "text/plain": [
       "           id                                            premise  \\\n",
       "0  c6d58c3f69  بکس، کیسی، راہیل، یسعیاہ، کیلی، کیلی، اور کولم...   \n",
       "1  cefcc82292                             هذا هو ما تم نصحنا به.   \n",
       "2  e98005252c  et cela est en grande partie dû au fait que le...   \n",
       "3  58518c10ba                   与城市及其他公民及社区组织代表就IMA的艺术发展进行对话&amp   \n",
       "4  c32b0d16df                              Она все еще была там.   \n",
       "\n",
       "                                          hypothesis lang_abv language  \n",
       "0  کیسی کے لئے کوئی یادگار نہیں ہوگا, کولمین ہائی...       ur     Urdu  \n",
       "1  عندما يتم إخبارهم بما يجب عليهم فعله ، فشلت ال...       ar   Arabic  \n",
       "2                             Les mères se droguent.       fr   French  \n",
       "3                            IMA与其他组织合作，因为它们都依靠共享资金。       zh  Chinese  \n",
       "4     Мы думали, что она ушла, однако, она осталась.       ru  Russian  "
      ]
     },
     "execution_count": 3,
     "metadata": {},
     "output_type": "execute_result"
    }
   ],
   "source": [
    "test = pd.read_csv(\"/kaggle/input/contradictory-my-dear-watson/test.csv\")\n",
    "test.head()"
   ]
  },
  {
   "cell_type": "markdown",
   "execution_count": null,
   "metadata": {
    "papermill": {
     "duration": 0.005463,
     "end_time": "2020-08-15T18:28:37.716285",
     "exception": false,
     "start_time": "2020-08-15T18:28:37.710822",
     "status": "completed"
    },
    "tags": []
   },
   "source": [
    "<a id = \"data\"></a>\n",
    "# Data Cleaning"
   ]
  },
  {
   "cell_type": "code",
   "execution_count": 4,
   "metadata": {
    "execution": {
     "iopub.execute_input": "2020-08-15T18:28:37.736613Z",
     "iopub.status.busy": "2020-08-15T18:28:37.735901Z",
     "iopub.status.idle": "2020-08-15T18:28:37.742977Z",
     "shell.execute_reply": "2020-08-15T18:28:37.742443Z"
    },
    "papermill": {
     "duration": 0.021242,
     "end_time": "2020-08-15T18:28:37.743108",
     "exception": false,
     "start_time": "2020-08-15T18:28:37.721866",
     "status": "completed"
    },
    "tags": []
   },
   "outputs": [
    {
     "data": {
      "text/plain": [
       "id            0\n",
       "premise       0\n",
       "hypothesis    0\n",
       "lang_abv      0\n",
       "language      0\n",
       "label         0\n",
       "dtype: int64"
      ]
     },
     "execution_count": 4,
     "metadata": {},
     "output_type": "execute_result"
    }
   ],
   "source": [
    "train.isna().sum()"
   ]
  },
  {
   "cell_type": "code",
   "execution_count": 5,
   "metadata": {
    "execution": {
     "iopub.execute_input": "2020-08-15T18:28:37.762690Z",
     "iopub.status.busy": "2020-08-15T18:28:37.760836Z",
     "iopub.status.idle": "2020-08-15T18:28:37.766901Z",
     "shell.execute_reply": "2020-08-15T18:28:37.767365Z"
    },
    "papermill": {
     "duration": 0.018564,
     "end_time": "2020-08-15T18:28:37.767519",
     "exception": false,
     "start_time": "2020-08-15T18:28:37.748955",
     "status": "completed"
    },
    "tags": []
   },
   "outputs": [
    {
     "data": {
      "text/plain": [
       "id            0\n",
       "premise       0\n",
       "hypothesis    0\n",
       "lang_abv      0\n",
       "language      0\n",
       "dtype: int64"
      ]
     },
     "execution_count": 5,
     "metadata": {},
     "output_type": "execute_result"
    }
   ],
   "source": [
    "test.isna().sum()"
   ]
  },
  {
   "cell_type": "code",
   "execution_count": 6,
   "metadata": {
    "execution": {
     "iopub.execute_input": "2020-08-15T18:28:37.791885Z",
     "iopub.status.busy": "2020-08-15T18:28:37.791048Z",
     "iopub.status.idle": "2020-08-15T18:28:37.794016Z",
     "shell.execute_reply": "2020-08-15T18:28:37.793384Z"
    },
    "papermill": {
     "duration": 0.02014,
     "end_time": "2020-08-15T18:28:37.794134",
     "exception": false,
     "start_time": "2020-08-15T18:28:37.773994",
     "status": "completed"
    },
    "tags": []
   },
   "outputs": [],
   "source": [
    "def remove_URL(sample):\n",
    "    return re.sub(r\"http\\S+\", \"\", sample)\n",
    "\n",
    "def to_lowercase(words):\n",
    "    new_words = []\n",
    "    for word in words:\n",
    "        new_word = word.lower()\n",
    "        new_words.append(new_word)\n",
    "    return new_words\n",
    "def remove_punctuation(words):\n",
    "    new_words = []\n",
    "    for word in words:\n",
    "        new_word = re.sub(r'[^\\w\\s]', '', word)\n",
    "        if new_word != '':\n",
    "            new_words.append(new_word)\n",
    "    return new_words\n",
    "\n",
    "def stem_words(words):\n",
    "    stemmer = LancasterStemmer()\n",
    "    stems = []\n",
    "    for word in words:\n",
    "        stem = stemmer.stem(word)\n",
    "        stems.append(stem)\n",
    "    return stems\n",
    "def lemmatize_verbs(words):\n",
    "    lemmatizer = WordNetLemmatizer()\n",
    "    lemmas = []\n",
    "    for word in words:\n",
    "        lemma = lemmatizer.lemmatize(word, pos='v')\n",
    "        lemmas.append(lemma)\n",
    "    return lemmas\n",
    "\n",
    "def normalize(words):\n",
    "    words = to_lowercase(words)\n",
    "    words = remove_punctuation(words)\n",
    "    return words\n",
    "\n",
    "def preprocess(sample):\n",
    "    sample = remove_URL(sample)\n",
    "    words = nltk.word_tokenize(sample)\n",
    "\n",
    "    # Normalize\n",
    "    return normalize(words)"
   ]
  },
  {
   "cell_type": "code",
   "execution_count": 7,
   "metadata": {
    "execution": {
     "iopub.execute_input": "2020-08-15T18:28:37.812544Z",
     "iopub.status.busy": "2020-08-15T18:28:37.811872Z",
     "iopub.status.idle": "2020-08-15T18:28:40.345962Z",
     "shell.execute_reply": "2020-08-15T18:28:40.345275Z"
    },
    "papermill": {
     "duration": 2.545996,
     "end_time": "2020-08-15T18:28:40.346114",
     "exception": false,
     "start_time": "2020-08-15T18:28:37.800118",
     "status": "completed"
    },
    "tags": []
   },
   "outputs": [],
   "source": [
    "vocabulary = []\n",
    "new_train = []\n",
    "for text in train['premise']:\n",
    "    new_text = preprocess(text)\n",
    "    vocabulary.append(new_text)\n",
    "    new_train.append(' '.join(new_text))"
   ]
  },
  {
   "cell_type": "code",
   "execution_count": 8,
   "metadata": {
    "execution": {
     "iopub.execute_input": "2020-08-15T18:28:40.396945Z",
     "iopub.status.busy": "2020-08-15T18:28:40.391937Z",
     "iopub.status.idle": "2020-08-15T18:28:41.531143Z",
     "shell.execute_reply": "2020-08-15T18:28:41.530546Z"
    },
    "papermill": {
     "duration": 1.179069,
     "end_time": "2020-08-15T18:28:41.531287",
     "exception": false,
     "start_time": "2020-08-15T18:28:40.352218",
     "status": "completed"
    },
    "tags": []
   },
   "outputs": [],
   "source": [
    "new_test = []\n",
    "for text in test['premise']:\n",
    "    new_text = preprocess(text)\n",
    "    vocabulary.append(new_text)\n",
    "    new_test.append(' '.join(new_text))"
   ]
  },
  {
   "cell_type": "code",
   "execution_count": 9,
   "metadata": {
    "execution": {
     "iopub.execute_input": "2020-08-15T18:28:41.548458Z",
     "iopub.status.busy": "2020-08-15T18:28:41.547831Z",
     "iopub.status.idle": "2020-08-15T18:28:41.563306Z",
     "shell.execute_reply": "2020-08-15T18:28:41.563839Z"
    },
    "papermill": {
     "duration": 0.026475,
     "end_time": "2020-08-15T18:28:41.563984",
     "exception": false,
     "start_time": "2020-08-15T18:28:41.537509",
     "status": "completed"
    },
    "tags": []
   },
   "outputs": [
    {
     "data": {
      "text/html": [
       "<div>\n",
       "<style scoped>\n",
       "    .dataframe tbody tr th:only-of-type {\n",
       "        vertical-align: middle;\n",
       "    }\n",
       "\n",
       "    .dataframe tbody tr th {\n",
       "        vertical-align: top;\n",
       "    }\n",
       "\n",
       "    .dataframe thead th {\n",
       "        text-align: right;\n",
       "    }\n",
       "</style>\n",
       "<table border=\"1\" class=\"dataframe\">\n",
       "  <thead>\n",
       "    <tr style=\"text-align: right;\">\n",
       "      <th></th>\n",
       "      <th>text</th>\n",
       "      <th>id</th>\n",
       "      <th>label</th>\n",
       "    </tr>\n",
       "  </thead>\n",
       "  <tbody>\n",
       "    <tr>\n",
       "      <th>0</th>\n",
       "      <td>and these comments were considered in formulat...</td>\n",
       "      <td>5130fd2cb5</td>\n",
       "      <td>0</td>\n",
       "    </tr>\n",
       "    <tr>\n",
       "      <th>1</th>\n",
       "      <td>these are issues that we wrestle with in pract...</td>\n",
       "      <td>5b72532a0b</td>\n",
       "      <td>2</td>\n",
       "    </tr>\n",
       "    <tr>\n",
       "      <th>2</th>\n",
       "      <td>des petites choses comme celleslà font une dif...</td>\n",
       "      <td>3931fbe82a</td>\n",
       "      <td>0</td>\n",
       "    </tr>\n",
       "    <tr>\n",
       "      <th>3</th>\n",
       "      <td>you know they ca nt really defend themselves l...</td>\n",
       "      <td>5622f0c60b</td>\n",
       "      <td>0</td>\n",
       "    </tr>\n",
       "    <tr>\n",
       "      <th>4</th>\n",
       "      <td>ในการเลนบทบาทสมมตกเชนกน โอกาสทจะไดแสดงออกและได...</td>\n",
       "      <td>86aaa48b45</td>\n",
       "      <td>1</td>\n",
       "    </tr>\n",
       "  </tbody>\n",
       "</table>\n",
       "</div>"
      ],
      "text/plain": [
       "                                                text          id  label\n",
       "0  and these comments were considered in formulat...  5130fd2cb5      0\n",
       "1  these are issues that we wrestle with in pract...  5b72532a0b      2\n",
       "2  des petites choses comme celleslà font une dif...  3931fbe82a      0\n",
       "3  you know they ca nt really defend themselves l...  5622f0c60b      0\n",
       "4  ในการเลนบทบาทสมมตกเชนกน โอกาสทจะไดแสดงออกและได...  86aaa48b45      1"
      ]
     },
     "execution_count": 9,
     "metadata": {},
     "output_type": "execute_result"
    }
   ],
   "source": [
    "final_train = DataFrame(new_train,columns=['text'])\n",
    "final_train['id'] = train['id']\n",
    "final_train['label'] = train['label']\n",
    "final_train.head()"
   ]
  },
  {
   "cell_type": "code",
   "execution_count": 10,
   "metadata": {
    "execution": {
     "iopub.execute_input": "2020-08-15T18:28:41.586599Z",
     "iopub.status.busy": "2020-08-15T18:28:41.585934Z",
     "iopub.status.idle": "2020-08-15T18:28:41.619995Z",
     "shell.execute_reply": "2020-08-15T18:28:41.619458Z"
    },
    "papermill": {
     "duration": 0.05007,
     "end_time": "2020-08-15T18:28:41.620128",
     "exception": false,
     "start_time": "2020-08-15T18:28:41.570058",
     "status": "completed"
    },
    "tags": []
   },
   "outputs": [
    {
     "data": {
      "text/html": [
       "<div>\n",
       "<style scoped>\n",
       "    .dataframe tbody tr th:only-of-type {\n",
       "        vertical-align: middle;\n",
       "    }\n",
       "\n",
       "    .dataframe tbody tr th {\n",
       "        vertical-align: top;\n",
       "    }\n",
       "\n",
       "    .dataframe thead th {\n",
       "        text-align: right;\n",
       "    }\n",
       "</style>\n",
       "<table border=\"1\" class=\"dataframe\">\n",
       "  <thead>\n",
       "    <tr style=\"text-align: right;\">\n",
       "      <th></th>\n",
       "      <th>text</th>\n",
       "      <th>id</th>\n",
       "      <th>label</th>\n",
       "    </tr>\n",
       "  </thead>\n",
       "  <tbody>\n",
       "    <tr>\n",
       "      <th>0</th>\n",
       "      <td>and these comments were considered in formulat...</td>\n",
       "      <td>5130fd2cb5</td>\n",
       "      <td>0</td>\n",
       "    </tr>\n",
       "    <tr>\n",
       "      <th>1</th>\n",
       "      <td>these are issues that we wrestle with in pract...</td>\n",
       "      <td>5b72532a0b</td>\n",
       "      <td>2</td>\n",
       "    </tr>\n",
       "    <tr>\n",
       "      <th>2</th>\n",
       "      <td>des petites choses comme celleslà font une dif...</td>\n",
       "      <td>3931fbe82a</td>\n",
       "      <td>0</td>\n",
       "    </tr>\n",
       "    <tr>\n",
       "      <th>3</th>\n",
       "      <td>you know they ca nt really defend themselves l...</td>\n",
       "      <td>5622f0c60b</td>\n",
       "      <td>0</td>\n",
       "    </tr>\n",
       "    <tr>\n",
       "      <th>4</th>\n",
       "      <td>ในการเลนบทบาทสมมตกเชนกน โอกาสทจะไดแสดงออกและได...</td>\n",
       "      <td>86aaa48b45</td>\n",
       "      <td>1</td>\n",
       "    </tr>\n",
       "  </tbody>\n",
       "</table>\n",
       "</div>"
      ],
      "text/plain": [
       "                                                text          id  label\n",
       "0  and these comments were considered in formulat...  5130fd2cb5      0\n",
       "1  these are issues that we wrestle with in pract...  5b72532a0b      2\n",
       "2  des petites choses comme celleslà font une dif...  3931fbe82a      0\n",
       "3  you know they ca nt really defend themselves l...  5622f0c60b      0\n",
       "4  ในการเลนบทบาทสมมตกเชนกน โอกาสทจะไดแสดงออกและได...  86aaa48b45      1"
      ]
     },
     "execution_count": 10,
     "metadata": {},
     "output_type": "execute_result"
    }
   ],
   "source": [
    "final_train['text'].replace('', np.nan, inplace=True)\n",
    "final_train.dropna(subset=['text'], inplace=True)\n",
    "final_train.head()"
   ]
  },
  {
   "cell_type": "code",
   "execution_count": 11,
   "metadata": {
    "execution": {
     "iopub.execute_input": "2020-08-15T18:28:41.643799Z",
     "iopub.status.busy": "2020-08-15T18:28:41.642933Z",
     "iopub.status.idle": "2020-08-15T18:28:41.646838Z",
     "shell.execute_reply": "2020-08-15T18:28:41.647293Z"
    },
    "papermill": {
     "duration": 0.020901,
     "end_time": "2020-08-15T18:28:41.647437",
     "exception": false,
     "start_time": "2020-08-15T18:28:41.626536",
     "status": "completed"
    },
    "tags": []
   },
   "outputs": [
    {
     "data": {
      "text/html": [
       "<div>\n",
       "<style scoped>\n",
       "    .dataframe tbody tr th:only-of-type {\n",
       "        vertical-align: middle;\n",
       "    }\n",
       "\n",
       "    .dataframe tbody tr th {\n",
       "        vertical-align: top;\n",
       "    }\n",
       "\n",
       "    .dataframe thead th {\n",
       "        text-align: right;\n",
       "    }\n",
       "</style>\n",
       "<table border=\"1\" class=\"dataframe\">\n",
       "  <thead>\n",
       "    <tr style=\"text-align: right;\">\n",
       "      <th></th>\n",
       "      <th>text</th>\n",
       "      <th>id</th>\n",
       "    </tr>\n",
       "  </thead>\n",
       "  <tbody>\n",
       "    <tr>\n",
       "      <th>0</th>\n",
       "      <td>بکس کیسی راہیل یسعیاہ کیلی کیلی اور کولمبین ہا...</td>\n",
       "      <td>c6d58c3f69</td>\n",
       "    </tr>\n",
       "    <tr>\n",
       "      <th>1</th>\n",
       "      <td>هذا هو ما تم نصحنا به</td>\n",
       "      <td>cefcc82292</td>\n",
       "    </tr>\n",
       "    <tr>\n",
       "      <th>2</th>\n",
       "      <td>et cela est en grande partie dû au fait que le...</td>\n",
       "      <td>e98005252c</td>\n",
       "    </tr>\n",
       "    <tr>\n",
       "      <th>3</th>\n",
       "      <td>与城市及其他公民及社区组织代表就ima的艺术发展进行对话 amp</td>\n",
       "      <td>58518c10ba</td>\n",
       "    </tr>\n",
       "    <tr>\n",
       "      <th>4</th>\n",
       "      <td>она все еще была там</td>\n",
       "      <td>c32b0d16df</td>\n",
       "    </tr>\n",
       "  </tbody>\n",
       "</table>\n",
       "</div>"
      ],
      "text/plain": [
       "                                                text          id\n",
       "0  بکس کیسی راہیل یسعیاہ کیلی کیلی اور کولمبین ہا...  c6d58c3f69\n",
       "1                              هذا هو ما تم نصحنا به  cefcc82292\n",
       "2  et cela est en grande partie dû au fait que le...  e98005252c\n",
       "3                   与城市及其他公民及社区组织代表就ima的艺术发展进行对话 amp  58518c10ba\n",
       "4                               она все еще была там  c32b0d16df"
      ]
     },
     "execution_count": 11,
     "metadata": {},
     "output_type": "execute_result"
    }
   ],
   "source": [
    "final_test = DataFrame(new_test,columns=['text'])\n",
    "final_test['id'] = test['id']\n",
    "final_test.head()"
   ]
  },
  {
   "cell_type": "code",
   "execution_count": 12,
   "metadata": {
    "execution": {
     "iopub.execute_input": "2020-08-15T18:28:41.668486Z",
     "iopub.status.busy": "2020-08-15T18:28:41.667033Z",
     "iopub.status.idle": "2020-08-15T18:28:41.678606Z",
     "shell.execute_reply": "2020-08-15T18:28:41.677974Z"
    },
    "papermill": {
     "duration": 0.02488,
     "end_time": "2020-08-15T18:28:41.678716",
     "exception": false,
     "start_time": "2020-08-15T18:28:41.653836",
     "status": "completed"
    },
    "tags": []
   },
   "outputs": [
    {
     "data": {
      "text/html": [
       "<div>\n",
       "<style scoped>\n",
       "    .dataframe tbody tr th:only-of-type {\n",
       "        vertical-align: middle;\n",
       "    }\n",
       "\n",
       "    .dataframe tbody tr th {\n",
       "        vertical-align: top;\n",
       "    }\n",
       "\n",
       "    .dataframe thead th {\n",
       "        text-align: right;\n",
       "    }\n",
       "</style>\n",
       "<table border=\"1\" class=\"dataframe\">\n",
       "  <thead>\n",
       "    <tr style=\"text-align: right;\">\n",
       "      <th></th>\n",
       "      <th>text</th>\n",
       "      <th>id</th>\n",
       "    </tr>\n",
       "  </thead>\n",
       "  <tbody>\n",
       "    <tr>\n",
       "      <th>0</th>\n",
       "      <td>بکس کیسی راہیل یسعیاہ کیلی کیلی اور کولمبین ہا...</td>\n",
       "      <td>c6d58c3f69</td>\n",
       "    </tr>\n",
       "    <tr>\n",
       "      <th>1</th>\n",
       "      <td>هذا هو ما تم نصحنا به</td>\n",
       "      <td>cefcc82292</td>\n",
       "    </tr>\n",
       "    <tr>\n",
       "      <th>2</th>\n",
       "      <td>et cela est en grande partie dû au fait que le...</td>\n",
       "      <td>e98005252c</td>\n",
       "    </tr>\n",
       "    <tr>\n",
       "      <th>3</th>\n",
       "      <td>与城市及其他公民及社区组织代表就ima的艺术发展进行对话 amp</td>\n",
       "      <td>58518c10ba</td>\n",
       "    </tr>\n",
       "    <tr>\n",
       "      <th>4</th>\n",
       "      <td>она все еще была там</td>\n",
       "      <td>c32b0d16df</td>\n",
       "    </tr>\n",
       "  </tbody>\n",
       "</table>\n",
       "</div>"
      ],
      "text/plain": [
       "                                                text          id\n",
       "0  بکس کیسی راہیل یسعیاہ کیلی کیلی اور کولمبین ہا...  c6d58c3f69\n",
       "1                              هذا هو ما تم نصحنا به  cefcc82292\n",
       "2  et cela est en grande partie dû au fait que le...  e98005252c\n",
       "3                   与城市及其他公民及社区组织代表就ima的艺术发展进行对话 amp  58518c10ba\n",
       "4                               она все еще была там  c32b0d16df"
      ]
     },
     "execution_count": 12,
     "metadata": {},
     "output_type": "execute_result"
    }
   ],
   "source": [
    "final_test['text'].replace('', np.nan, inplace=True)\n",
    "final_test.dropna(subset=['text'], inplace=True)\n",
    "final_test.head()"
   ]
  },
  {
   "cell_type": "markdown",
   "execution_count": null,
   "metadata": {
    "papermill": {
     "duration": 0.006193,
     "end_time": "2020-08-15T18:28:41.691576",
     "exception": false,
     "start_time": "2020-08-15T18:28:41.685383",
     "status": "completed"
    },
    "tags": []
   },
   "source": [
    "<a id = \"visual\"></a>\n",
    "# Visualizations"
   ]
  },
  {
   "cell_type": "code",
   "execution_count": 13,
   "metadata": {
    "execution": {
     "iopub.execute_input": "2020-08-15T18:28:41.731063Z",
     "iopub.status.busy": "2020-08-15T18:28:41.723196Z",
     "iopub.status.idle": "2020-08-15T18:28:42.007911Z",
     "shell.execute_reply": "2020-08-15T18:28:42.007258Z"
    },
    "papermill": {
     "duration": 0.309986,
     "end_time": "2020-08-15T18:28:42.008046",
     "exception": false,
     "start_time": "2020-08-15T18:28:41.698060",
     "status": "completed"
    },
    "tags": []
   },
   "outputs": [
    {
     "name": "stdout",
     "output_type": "stream",
     "text": [
      "315303\n"
     ]
    },
    {
     "data": {
      "text/plain": [
       "['the',\n",
       " 'and',\n",
       " 'of',\n",
       " 'to',\n",
       " 'a',\n",
       " 'in',\n",
       " 'i',\n",
       " 'that',\n",
       " 'it',\n",
       " 's',\n",
       " 'you',\n",
       " 'is',\n",
       " 'for',\n",
       " 'de',\n",
       " 'was',\n",
       " 'on',\n",
       " 'they',\n",
       " 'with',\n",
       " 'as',\n",
       " 'क',\n",
       " 'are',\n",
       " 'have',\n",
       " 'do',\n",
       " 'be',\n",
       " 'nt',\n",
       " 'but',\n",
       " 'uh',\n",
       " 'we',\n",
       " 'or',\n",
       " 'at',\n",
       " 'la',\n",
       " 'not',\n",
       " 'know',\n",
       " 'he',\n",
       " 'by',\n",
       " 'from',\n",
       " 'an',\n",
       " 'there',\n",
       " 'this',\n",
       " 'yeah',\n",
       " 'so',\n",
       " 'ह',\n",
       " 'his',\n",
       " 'کے',\n",
       " 'и',\n",
       " 'had',\n",
       " 'if',\n",
       " 'like',\n",
       " 'ya',\n",
       " 'на']"
      ]
     },
     "execution_count": 13,
     "metadata": {},
     "output_type": "execute_result"
    }
   ],
   "source": [
    "tokens = [item for sublist in vocabulary for item in sublist]\n",
    "print(len(tokens))\n",
    "frequency_dist = nltk.FreqDist(tokens)\n",
    "sorted(frequency_dist,key=frequency_dist.__getitem__, reverse=True)[0:50]"
   ]
  },
  {
   "cell_type": "code",
   "execution_count": 14,
   "metadata": {
    "execution": {
     "iopub.execute_input": "2020-08-15T18:28:42.068894Z",
     "iopub.status.busy": "2020-08-15T18:28:42.068186Z",
     "iopub.status.idle": "2020-08-15T18:28:42.512828Z",
     "shell.execute_reply": "2020-08-15T18:28:42.513355Z"
    },
    "papermill": {
     "duration": 0.498373,
     "end_time": "2020-08-15T18:28:42.513511",
     "exception": false,
     "start_time": "2020-08-15T18:28:42.015138",
     "status": "completed"
    },
    "tags": []
   },
   "outputs": [
    {
     "data": {
      "image/png": "[encoded data removed]",
      "text/plain": [
       "<Figure size 432x288 with 1 Axes>"
      ]
     },
     "metadata": {
      "needs_background": "light"
     },
     "output_type": "display_data"
    }
   ],
   "source": [
    "wordcloud = WordCloud().generate_from_frequencies(frequency_dist)\n",
    "plt.imshow(wordcloud)\n",
    "plt.axis(\"off\")\n",
    "plt.show()"
   ]
  },
  {
   "cell_type": "markdown",
   "execution_count": null,
   "metadata": {
    "papermill": {
     "duration": 0.007544,
     "end_time": "2020-08-15T18:28:42.529118",
     "exception": false,
     "start_time": "2020-08-15T18:28:42.521574",
     "status": "completed"
    },
    "tags": []
   },
   "source": [
    "<a id = \"submission\"></a>\n",
    "# Submission"
   ]
  },
  {
   "cell_type": "code",
   "execution_count": 15,
   "metadata": {
    "execution": {
     "iopub.execute_input": "2020-08-15T18:28:42.557204Z",
     "iopub.status.busy": "2020-08-15T18:28:42.551653Z",
     "iopub.status.idle": "2020-08-15T18:28:42.560661Z",
     "shell.execute_reply": "2020-08-15T18:28:42.560167Z"
    },
    "papermill": {
     "duration": 0.023615,
     "end_time": "2020-08-15T18:28:42.560777",
     "exception": false,
     "start_time": "2020-08-15T18:28:42.537162",
     "status": "completed"
    },
    "tags": []
   },
   "outputs": [],
   "source": [
    "X_train = final_train.loc[:12120, 'text'].values\n",
    "y_train = final_train.loc[:12120, 'label'].values\n",
    "X_test = final_test.loc[:5195, 'text'].values"
   ]
  },
  {
   "cell_type": "code",
   "execution_count": 16,
   "metadata": {
    "execution": {
     "iopub.execute_input": "2020-08-15T18:28:42.615588Z",
     "iopub.status.busy": "2020-08-15T18:28:42.595017Z",
     "iopub.status.idle": "2020-08-15T18:28:43.046391Z",
     "shell.execute_reply": "2020-08-15T18:28:43.045700Z"
    },
    "papermill": {
     "duration": 0.477832,
     "end_time": "2020-08-15T18:28:43.046511",
     "exception": false,
     "start_time": "2020-08-15T18:28:42.568679",
     "status": "completed"
    },
    "tags": []
   },
   "outputs": [
    {
     "name": "stdout",
     "output_type": "stream",
     "text": [
      "(12120, 40775) (5195, 40775)\n"
     ]
    }
   ],
   "source": [
    "from sklearn.feature_extraction.text import TfidfTransformer\n",
    "from sklearn.feature_extraction.text import TfidfVectorizer\n",
    "vectorizer = TfidfVectorizer()\n",
    "train_vectors = vectorizer.fit_transform(X_train)\n",
    "test_vectors = vectorizer.transform(X_test)\n",
    "print(train_vectors.shape, test_vectors.shape)"
   ]
  },
  {
   "cell_type": "code",
   "execution_count": 17,
   "metadata": {
    "execution": {
     "iopub.execute_input": "2020-08-15T18:28:43.066795Z",
     "iopub.status.busy": "2020-08-15T18:28:43.066213Z",
     "iopub.status.idle": "2020-08-15T18:28:43.086704Z",
     "shell.execute_reply": "2020-08-15T18:28:43.086065Z"
    },
    "papermill": {
     "duration": 0.032138,
     "end_time": "2020-08-15T18:28:43.086819",
     "exception": false,
     "start_time": "2020-08-15T18:28:43.054681",
     "status": "completed"
    },
    "tags": []
   },
   "outputs": [],
   "source": [
    "from sklearn.naive_bayes import MultinomialNB\n",
    "clf = MultinomialNB().fit(train_vectors, y_train)"
   ]
  },
  {
   "cell_type": "code",
   "execution_count": 18,
   "metadata": {
    "execution": {
     "iopub.execute_input": "2020-08-15T18:28:43.108729Z",
     "iopub.status.busy": "2020-08-15T18:28:43.107772Z",
     "iopub.status.idle": "2020-08-15T18:28:43.207933Z",
     "shell.execute_reply": "2020-08-15T18:28:43.207311Z"
    },
    "papermill": {
     "duration": 0.113137,
     "end_time": "2020-08-15T18:28:43.208086",
     "exception": false,
     "start_time": "2020-08-15T18:28:43.094949",
     "status": "completed"
    },
    "tags": []
   },
   "outputs": [
    {
     "name": "stdout",
     "output_type": "stream",
     "text": [
      "Your submission was successfully saved!\n"
     ]
    }
   ],
   "source": [
    "predicted = clf.predict(test_vectors)\n",
    "output = pd.DataFrame({'id': final_test.id, 'prediction': predicted})\n",
    "output.to_csv('submission.csv', index=False)\n",
    "print(\"Your submission was successfully saved!\")"
   ]
  }
 ],
 "metadata": {
  "kernelspec": {
   "display_name": "Python 3",
   "language": "python",
   "name": "python3"
  },
  "language_info": {
   "codemirror_mode": {
    "name": "ipython",
    "version": 3
   },
   "file_extension": ".py",
   "mimetype": "text/x-python",
   "name": "python",
   "nbconvert_exporter": "python",
   "pygments_lexer": "ipython3",
   "version": "3.7.6"
  },
  "papermill": {
   "duration": 13.511165,
   "end_time": "2020-08-15T18:28:43.324756",
   "environment_variables": {},
   "exception": null,
   "input_path": "__notebook__.ipynb",
   "output_path": "__notebook__.ipynb",
   "parameters": {},
   "start_time": "2020-08-15T18:28:29.813591",
   "version": "2.1.0"
  }
 },
 "nbformat": 4,
 "nbformat_minor": 4
}
